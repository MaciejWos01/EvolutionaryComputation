{
 "cells": [
  {
   "cell_type": "code",
   "execution_count": null,
   "metadata": {},
   "outputs": [],
   "source": [
    "import matplotlib.pyplot as plt\n",
    "import numpy as np\n",
    "\n",
    "letters = [\"A\", \"B\", \"C\", \"D\"]\n",
    "\n",
    "for letter in letters:\n",
    "    with open(\"localOptima\" + letter + \".txt\", \"r\") as f:\n",
    "        randomLocalOptima = [line.strip().split(\",\") for line in f]\n",
    "\n",
    "    randomLocalOptima = np.array(randomLocalOptima, dtype='float64')\n",
    "\n",
    "    x0points, x1points, x2points, x3points, ypoints = randomLocalOptima.T\n",
    "\n",
    "    fig, axes = plt.subplots(nrows=2, ncols=2, figsize=(10, 8))\n",
    "    fig.suptitle(\"Dataset \" + letter)\n",
    "\n",
    "    fig.patch.set_facecolor('white')\n",
    "    for ax in axes.flat:\n",
    "        ax.set_facecolor('white')\n",
    "\n",
    "    axes[0, 0].plot(ypoints, x0points, 'o', label='best nodes')\n",
    "    axes[0, 1].plot(ypoints, x1points, 'o', label='best edges')\n",
    "    axes[1, 0].plot(ypoints, x2points, 'o', label='average nodes')\n",
    "    axes[1, 1].plot(ypoints, x3points, 'o', label='average edges')\n",
    "\n",
    "    for ax in axes.flat:\n",
    "        ax.legend()\n",
    "\n",
    "    plt.savefig(\"plots_\" + letter + \".png\")\n",
    "    plt.close()"
   ]
  }
 ],
 "metadata": {
  "kernelspec": {
   "display_name": "Python 3",
   "language": "python",
   "name": "python3"
  },
  "language_info": {
   "codemirror_mode": {
    "name": "ipython",
    "version": 3
   },
   "file_extension": ".py",
   "mimetype": "text/x-python",
   "name": "python",
   "nbconvert_exporter": "python",
   "pygments_lexer": "ipython3",
   "version": "3.8.5"
  }
 },
 "nbformat": 4,
 "nbformat_minor": 4
}
